{
 "cells": [
  {
   "cell_type": "markdown",
   "id": "cff6b5d3",
   "metadata": {},
   "source": [
    "**MI6 Debrief:**\n",
    "\n",
    "> Should be have a flip flag for each metric? To identify good/bad *Solved, negative coefficients will account for that*\n",
    "\n",
    "> Should we fill 0 to NA data? or fill it up by mean? *Used both*\n",
    "\n",
    "> Missing data is an issue, regression wont run unless complete data\n",
    "\n",
    "> Should we remove 2020 data from control variables *Have done, data only upto 2019 now*\n",
    "\n",
    "> Have not included cuurency data yet, was not clear.*Phase 2*\n",
    "\n",
    "> Inflation cleaned .xlsx is the latest version right?"
   ]
  },
  {
   "cell_type": "markdown",
   "id": "2c254190",
   "metadata": {},
   "source": [
    "**007, I'm your new Quartermaster.**"
   ]
  },
  {
   "cell_type": "code",
   "execution_count": 3,
   "id": "737a668d",
   "metadata": {},
   "outputs": [],
   "source": [
    "import pandas as pd\n",
    "import numpy as np\n",
    "import datetime as dt\n",
    "from functools import reduce\n",
    "from sklearn.linear_model import LinearRegression\n",
    "import statsmodels.api as sm\n",
    "import matplotlib.pyplot as plt\n",
    "import seaborn as sns\n",
    "from scipy.stats import boxcox\n",
    "from scipy.stats import yeojohnson\n",
    "from statsmodels.stats.diagnostic import het_white\n",
    "from statsmodels.compat import lzip\n",
    "from statsmodels.stats.diagnostic import acorr_breusch_godfrey as bg"
   ]
  },
  {
   "cell_type": "markdown",
   "id": "0e00e7e8",
   "metadata": {},
   "source": [
    "**What makes you think this is my first time?**"
   ]
  },
  {
   "cell_type": "code",
   "execution_count": 4,
   "id": "81415164",
   "metadata": {},
   "outputs": [],
   "source": [
    "import warnings\n",
    "warnings.filterwarnings(\"ignore\")"
   ]
  },
  {
   "cell_type": "markdown",
   "id": "94fb5737",
   "metadata": {},
   "source": [
    "**A gun and a radio...not exactly Christmas, is it?**"
   ]
  },
  {
   "cell_type": "code",
   "execution_count": 5,
   "id": "38b99484",
   "metadata": {},
   "outputs": [],
   "source": [
    "Dp_FDI_wide = pd.read_csv(\"Dp_FDI.csv\")\n",
    "#Dp_FDI_wide = pd.read_csv(\"FDI_yoy.csv\")\n",
    "Dp_PE_wide = pd.read_csv(\"Dp_PENew.csv\")\n",
    "Dp_Curr_wide = pd.read_csv(\"Dp_Curr.csv\")\n",
    "Dp_IntRate_wide = pd.read_csv(\"Dp_IntRate.csv\")\n",
    "Ind_TerrIdx = pd.read_csv(\"Ind_TerrIdx.csv\")\n",
    "Ind_TerrRaw = pd.read_csv(\"Ind_Terr.csv\")\n",
    "Cn_LaborForce_wide = pd.read_csv(\"Cn_LaborForce.csv\")\n",
    "Cn_GDPpc_wide = pd.read_csv(\"Cn_GDPpc.csv\")\n",
    "Cn_EODB_wide = pd.read_csv(\"EODBPercentiled.csv\")\n",
    "Cn_DomCrdt_wide = pd.read_csv(\"Cn_DomCrdt.csv\")\n",
    "Cn_FixedCapForm_wide = pd.read_csv(\"Cn_FixedCapForm.csv\")\n",
    "Cn_Infl_wide = pd.read_csv(\"Cn_Infl.csv\")\n",
    "Cn_IntRateL_wide = pd.read_csv(\"Cn_IntRateL.csv\")\n",
    "Cn_CurrStd_wide = pd.read_csv(\"Cn_CurrStd.csv\")"
   ]
  },
  {
   "cell_type": "code",
   "execution_count": 6,
   "id": "7559b28d",
   "metadata": {},
   "outputs": [],
   "source": [
    "Dp_FDI = pd.melt(Dp_FDI_wide,id_vars = (\"Country Name\"), var_name = \"Year\", value_name = \"FDI\")\n",
    "Dp_PE = pd.melt(Dp_PE_wide,id_vars = (\"Country Name\"), var_name = \"Year\", value_name = \"PE\")\n",
    "Dp_Curr = pd.melt(Dp_Curr_wide,id_vars = (\"Year\"), var_name = \"Country Name\", value_name = \"Currency\")\n",
    "Dp_IntRate = pd.melt(Dp_IntRate_wide,id_vars = (\"Country Name\"), var_name = \"Year\", value_name = \"IntRate\")\n",
    "Cn_LaborForce = pd.melt(Cn_LaborForce_wide,id_vars = (\"Country Name\"), var_name = \"Year\", value_name = \"Lab\")\n",
    "Cn_GDPpc = pd.melt(Cn_GDPpc_wide,id_vars = (\"Country Name\"), var_name = \"Year\", value_name = \"GDPpc\")\n",
    "Cn_EODB = pd.melt(Cn_EODB_wide,id_vars = (\"Country Name\"), var_name = \"Year\", value_name = \"EODB\")\n",
    "Cn_DomCrdt = pd.melt(Cn_DomCrdt_wide,id_vars = (\"Country Name\"), var_name = \"Year\", value_name = \"DomCrdt\")\n",
    "Cn_FixedCapForm = pd.melt(Cn_FixedCapForm_wide,id_vars = (\"Country Name\"), var_name = \"Year\", value_name = \"FixedCapForm\")\n",
    "Cn_Infl = pd.melt(Cn_Infl_wide,id_vars = (\"Country Name\"), var_name = \"Year\", value_name = \"Inf\")\n",
    "Cn_IntRateL = pd.melt(Cn_IntRateL_wide,id_vars = (\"Country Name\"), var_name = \"Year\", value_name = \"IntRateLend\")\n",
    "Cn_CurrStd = pd.melt(Cn_CurrStd_wide,id_vars = (\"Year\"), var_name = \"Country Name\", value_name = \"CurStd\")[[\"Country Name\", \"Year\", \"CurStd\"]]\n",
    "Cn_CurrStd[\"Year\"] = Cn_CurrStd[\"Year\"].apply(str)"
   ]
  },
  {
   "cell_type": "code",
   "execution_count": 7,
   "id": "d7abb827",
   "metadata": {},
   "outputs": [],
   "source": [
    "# Merging control variables into one dataset\n",
    "dfs = [Cn_LaborForce, Cn_GDPpc, Cn_EODB, Cn_DomCrdt,Cn_FixedCapForm, Cn_Infl, Cn_IntRateL,Cn_CurrStd]\n",
    "Control_Matrix = reduce(lambda df_left,df_right: pd.merge(df_left, df_right, \n",
    "                        left_on=[\"Country Name\",\"Year\"], right_on = [\"Country Name\",\"Year\"], how='outer'), dfs)\n",
    "Control_Matrix[\"Year\"] = pd.to_numeric(Control_Matrix[\"Year\"])\n",
    "Control_Matrix = Control_Matrix[Control_Matrix[\"Year\"]<2020]\n",
    "Control_Matrix[\"Year\"] = Control_Matrix[\"Year\"].apply(str)"
   ]
  },
  {
   "cell_type": "markdown",
   "id": "042017ae",
   "metadata": {},
   "source": [
    "**Be careful what you wish for.**"
   ]
  },
  {
   "cell_type": "code",
   "execution_count": 8,
   "id": "8eb73202",
   "metadata": {},
   "outputs": [],
   "source": [
    "#1a. Terrorism Incidents Data as many gaps. So creating dummy '0' datapoints for completeness\n",
    "Ind_Terr_Wide = Ind_TerrRaw.pivot(index=\"Year\", columns=\"Country Name\", values= \"Incidents\").reset_index(drop=False).fillna(0)\n",
    "Ind_Terr = pd.melt(Ind_Terr_Wide,id_vars = (\"Year\"), var_name = \"Country Name\", value_name = \"Incidents\")\n",
    "\n",
    "#1b. Including Terrorism Incidents Lag Variables\n",
    "for i in range(0,len(Ind_Terr[\"Country Name\"].unique())):\n",
    "    country = Ind_Terr[\"Country Name\"].unique()[i]\n",
    "    Ter = Ind_Terr[Ind_Terr[\"Country Name\"] == country]\n",
    "    Ter[\"IncidentLag_5\"] = Ter[\"Incidents\"].shift(5)\n",
    "    if i == 0:\n",
    "        Ind_Terr_Ref = Ter\n",
    "    else:\n",
    "        Ind_Terr_Ref = pd.concat([Ind_Terr_Ref, Ter])\n",
    "Ind_Terr_Ref.dropna(inplace=True)\n",
    "\n",
    "#2a. Including Terrorism Index Lag Variables\n",
    "for i in range(0,len(Ind_TerrIdx[\"Country Name\"].unique())):\n",
    "    country = Ind_TerrIdx[\"Country Name\"].unique()[i]\n",
    "    Ter = Ind_TerrIdx[Ind_Terr[\"Country Name\"] == country]\n",
    "    Ter[\"TerrorIdxLag_5\"] = Ter[\"TerrIdx\"].shift(5)\n",
    "    if i == 0:\n",
    "        Ind_TerrIdx_Ref = Ter\n",
    "    else:\n",
    "        Ind_TerrIdx_Ref = pd.concat([Ind_TerrIdx_Ref, Ter])\n",
    "Ind_TerrIdx_Ref.dropna(inplace=True)"
   ]
  },
  {
   "cell_type": "code",
   "execution_count": 9,
   "id": "9318a573",
   "metadata": {},
   "outputs": [],
   "source": [
    "#Replcaing Nan values in Control Matrix with mean()\n",
    "for i in range(0,len(Control_Matrix[\"Country Name\"].unique())):\n",
    "    country = Control_Matrix[\"Country Name\"].unique()[i]\n",
    "    Cntrl = Control_Matrix[Control_Matrix[\"Country Name\"] == country]\n",
    "    Cntrl.loc[:, [\"Lab\", \"GDPpc\", \"EODB\", \"DomCrdt\",\"FixedCapForm\", \"Inf\", \"IntRateLend\"]] = Cntrl.loc[:, [\"Lab\", \"GDPpc\", \"EODB\", \"DomCrdt\",\"FixedCapForm\", \"Inf\", \"IntRateLend\"]].apply(lambda x: x.fillna(x.mean()),axis=0)\n",
    "    if i == 0:\n",
    "        Control_Matrix_Ref = Cntrl\n",
    "    else:\n",
    "        Control_Matrix_Ref = pd.concat([Control_Matrix_Ref, Cntrl])\n",
    "Control_Matrix_Ref.dropna(inplace=True)"
   ]
  },
  {
   "cell_type": "code",
   "execution_count": 14,
   "id": "98203997-19be-4abd-a325-6d4ee8c7f9c3",
   "metadata": {},
   "outputs": [
    {
     "name": "stdout",
     "output_type": "stream",
     "text": [
      "Before dropping NA (2143, 18)\n",
      "After dropping NA (276, 18)\n"
     ]
    }
   ],
   "source": [
    "#Combine and export database to check\n",
    "Ind_Terr_Ref[\"Year\"] = Ind_Terr_Ref[\"Year\"].apply(str)\n",
    "Ind_TerrIdx_Ref[\"Year\"] = Ind_TerrIdx_Ref[\"Year\"].apply(str)\n",
    "Dp_Curr[\"Year\"] = Dp_Curr[\"Year\"].apply(str)\n",
    "Dp_PE[\"Year\"] = Dp_PE[\"Year\"].apply(str)\n",
    "df2 = [Dp_FDI, Dp_PE, Dp_Curr, Dp_IntRate, Ind_Terr_Ref, Ind_TerrIdx_Ref, Control_Matrix_Ref]\n",
    "#df2 = [Dp_PE, Ind_Terr_Ref, Ind_TerrIdx_Ref, Control_Matrix_Ref]\n",
    "MergedFile = reduce(lambda df_left,df_right: pd.merge(df_left, df_right, \n",
    "                        left_on=[\"Country Name\",\"Year\"], right_on = [\"Country Name\",\"Year\"], how='outer'), df2)\n",
    "print(\"Before dropping NA\",MergedFile.shape)\n",
    "MergedFile.dropna(inplace = True)\n",
    "print(\"After dropping NA\",MergedFile.shape)"
   ]
  },
  {
   "cell_type": "code",
   "execution_count": 15,
   "id": "5eb427f5",
   "metadata": {},
   "outputs": [
    {
     "data": {
      "text/html": [
       "<div>\n",
       "<style scoped>\n",
       "    .dataframe tbody tr th:only-of-type {\n",
       "        vertical-align: middle;\n",
       "    }\n",
       "\n",
       "    .dataframe tbody tr th {\n",
       "        vertical-align: top;\n",
       "    }\n",
       "\n",
       "    .dataframe thead th {\n",
       "        text-align: right;\n",
       "    }\n",
       "</style>\n",
       "<table border=\"1\" class=\"dataframe\">\n",
       "  <thead>\n",
       "    <tr style=\"text-align: right;\">\n",
       "      <th></th>\n",
       "      <th>FDI</th>\n",
       "      <th>PE</th>\n",
       "      <th>Currency</th>\n",
       "      <th>IntRate</th>\n",
       "      <th>Incidents</th>\n",
       "      <th>IncidentLag_5</th>\n",
       "      <th>TerrIdx</th>\n",
       "      <th>TerrorIdxLag_5</th>\n",
       "      <th>Lab</th>\n",
       "      <th>GDPpc</th>\n",
       "      <th>EODB</th>\n",
       "      <th>DomCrdt</th>\n",
       "      <th>FixedCapForm</th>\n",
       "      <th>Inf</th>\n",
       "      <th>IntRateLend</th>\n",
       "      <th>CurStd</th>\n",
       "    </tr>\n",
       "  </thead>\n",
       "  <tbody>\n",
       "    <tr>\n",
       "      <th>count</th>\n",
       "      <td>276.000000</td>\n",
       "      <td>276.000000</td>\n",
       "      <td>276.000000</td>\n",
       "      <td>276.000000</td>\n",
       "      <td>276.000000</td>\n",
       "      <td>276.000000</td>\n",
       "      <td>276.000000</td>\n",
       "      <td>276.000000</td>\n",
       "      <td>276.000000</td>\n",
       "      <td>276.000000</td>\n",
       "      <td>276.000000</td>\n",
       "      <td>276.000000</td>\n",
       "      <td>276.000000</td>\n",
       "      <td>276.000000</td>\n",
       "      <td>276.000000</td>\n",
       "      <td>276.000000</td>\n",
       "    </tr>\n",
       "    <tr>\n",
       "      <th>mean</th>\n",
       "      <td>4.249007</td>\n",
       "      <td>0.109674</td>\n",
       "      <td>0.025151</td>\n",
       "      <td>3.160425</td>\n",
       "      <td>61.355072</td>\n",
       "      <td>38.793478</td>\n",
       "      <td>2.368264</td>\n",
       "      <td>2.077217</td>\n",
       "      <td>60.010942</td>\n",
       "      <td>1.655723</td>\n",
       "      <td>6.628623</td>\n",
       "      <td>88.837443</td>\n",
       "      <td>22.543330</td>\n",
       "      <td>4.172886</td>\n",
       "      <td>7.403909</td>\n",
       "      <td>86.335439</td>\n",
       "    </tr>\n",
       "    <tr>\n",
       "      <th>std</th>\n",
       "      <td>9.574844</td>\n",
       "      <td>13.481869</td>\n",
       "      <td>0.095616</td>\n",
       "      <td>3.096056</td>\n",
       "      <td>208.575752</td>\n",
       "      <td>168.650572</td>\n",
       "      <td>2.344087</td>\n",
       "      <td>2.151749</td>\n",
       "      <td>8.261398</td>\n",
       "      <td>2.747049</td>\n",
       "      <td>2.592425</td>\n",
       "      <td>48.041497</td>\n",
       "      <td>4.325821</td>\n",
       "      <td>5.809303</td>\n",
       "      <td>5.742454</td>\n",
       "      <td>308.227038</td>\n",
       "    </tr>\n",
       "    <tr>\n",
       "      <th>min</th>\n",
       "      <td>-40.329928</td>\n",
       "      <td>-106.550000</td>\n",
       "      <td>-0.143371</td>\n",
       "      <td>-7.773405</td>\n",
       "      <td>0.000000</td>\n",
       "      <td>0.000000</td>\n",
       "      <td>0.000000</td>\n",
       "      <td>0.000000</td>\n",
       "      <td>39.250000</td>\n",
       "      <td>-7.226150</td>\n",
       "      <td>1.000000</td>\n",
       "      <td>12.877721</td>\n",
       "      <td>10.873349</td>\n",
       "      <td>-2.854865</td>\n",
       "      <td>0.500000</td>\n",
       "      <td>0.000210</td>\n",
       "    </tr>\n",
       "    <tr>\n",
       "      <th>25%</th>\n",
       "      <td>1.310527</td>\n",
       "      <td>-1.967500</td>\n",
       "      <td>-0.029797</td>\n",
       "      <td>1.464118</td>\n",
       "      <td>0.000000</td>\n",
       "      <td>0.000000</td>\n",
       "      <td>0.286000</td>\n",
       "      <td>0.229000</td>\n",
       "      <td>54.145000</td>\n",
       "      <td>0.348819</td>\n",
       "      <td>5.000000</td>\n",
       "      <td>39.142532</td>\n",
       "      <td>19.577264</td>\n",
       "      <td>1.264504</td>\n",
       "      <td>4.142313</td>\n",
       "      <td>0.120589</td>\n",
       "    </tr>\n",
       "    <tr>\n",
       "      <th>50%</th>\n",
       "      <td>2.813322</td>\n",
       "      <td>-0.100000</td>\n",
       "      <td>0.008704</td>\n",
       "      <td>3.167835</td>\n",
       "      <td>2.000000</td>\n",
       "      <td>1.500000</td>\n",
       "      <td>1.632500</td>\n",
       "      <td>1.413500</td>\n",
       "      <td>60.905000</td>\n",
       "      <td>1.630426</td>\n",
       "      <td>7.000000</td>\n",
       "      <td>91.170622</td>\n",
       "      <td>22.651027</td>\n",
       "      <td>2.830401</td>\n",
       "      <td>6.574542</td>\n",
       "      <td>1.142346</td>\n",
       "    </tr>\n",
       "    <tr>\n",
       "      <th>75%</th>\n",
       "      <td>4.879278</td>\n",
       "      <td>2.612500</td>\n",
       "      <td>0.057531</td>\n",
       "      <td>4.892442</td>\n",
       "      <td>15.250000</td>\n",
       "      <td>10.250000</td>\n",
       "      <td>4.125250</td>\n",
       "      <td>3.444750</td>\n",
       "      <td>65.592500</td>\n",
       "      <td>3.580429</td>\n",
       "      <td>9.000000</td>\n",
       "      <td>127.440848</td>\n",
       "      <td>25.138218</td>\n",
       "      <td>5.091756</td>\n",
       "      <td>9.352292</td>\n",
       "      <td>5.130772</td>\n",
       "    </tr>\n",
       "    <tr>\n",
       "      <th>max</th>\n",
       "      <td>86.589086</td>\n",
       "      <td>107.660000</td>\n",
       "      <td>0.684335</td>\n",
       "      <td>12.670410</td>\n",
       "      <td>2215.000000</td>\n",
       "      <td>2215.000000</td>\n",
       "      <td>8.843000</td>\n",
       "      <td>8.366000</td>\n",
       "      <td>77.900000</td>\n",
       "      <td>11.144209</td>\n",
       "      <td>10.000000</td>\n",
       "      <td>192.474207</td>\n",
       "      <td>37.286513</td>\n",
       "      <td>50.622568</td>\n",
       "      <td>67.254167</td>\n",
       "      <td>1901.200054</td>\n",
       "    </tr>\n",
       "  </tbody>\n",
       "</table>\n",
       "</div>"
      ],
      "text/plain": [
       "              FDI          PE    Currency     IntRate    Incidents  \\\n",
       "count  276.000000  276.000000  276.000000  276.000000   276.000000   \n",
       "mean     4.249007    0.109674    0.025151    3.160425    61.355072   \n",
       "std      9.574844   13.481869    0.095616    3.096056   208.575752   \n",
       "min    -40.329928 -106.550000   -0.143371   -7.773405     0.000000   \n",
       "25%      1.310527   -1.967500   -0.029797    1.464118     0.000000   \n",
       "50%      2.813322   -0.100000    0.008704    3.167835     2.000000   \n",
       "75%      4.879278    2.612500    0.057531    4.892442    15.250000   \n",
       "max     86.589086  107.660000    0.684335   12.670410  2215.000000   \n",
       "\n",
       "       IncidentLag_5     TerrIdx  TerrorIdxLag_5         Lab       GDPpc  \\\n",
       "count     276.000000  276.000000      276.000000  276.000000  276.000000   \n",
       "mean       38.793478    2.368264        2.077217   60.010942    1.655723   \n",
       "std       168.650572    2.344087        2.151749    8.261398    2.747049   \n",
       "min         0.000000    0.000000        0.000000   39.250000   -7.226150   \n",
       "25%         0.000000    0.286000        0.229000   54.145000    0.348819   \n",
       "50%         1.500000    1.632500        1.413500   60.905000    1.630426   \n",
       "75%        10.250000    4.125250        3.444750   65.592500    3.580429   \n",
       "max      2215.000000    8.843000        8.366000   77.900000   11.144209   \n",
       "\n",
       "             EODB     DomCrdt  FixedCapForm         Inf  IntRateLend  \\\n",
       "count  276.000000  276.000000    276.000000  276.000000   276.000000   \n",
       "mean     6.628623   88.837443     22.543330    4.172886     7.403909   \n",
       "std      2.592425   48.041497      4.325821    5.809303     5.742454   \n",
       "min      1.000000   12.877721     10.873349   -2.854865     0.500000   \n",
       "25%      5.000000   39.142532     19.577264    1.264504     4.142313   \n",
       "50%      7.000000   91.170622     22.651027    2.830401     6.574542   \n",
       "75%      9.000000  127.440848     25.138218    5.091756     9.352292   \n",
       "max     10.000000  192.474207     37.286513   50.622568    67.254167   \n",
       "\n",
       "            CurStd  \n",
       "count   276.000000  \n",
       "mean     86.335439  \n",
       "std     308.227038  \n",
       "min       0.000210  \n",
       "25%       0.120589  \n",
       "50%       1.142346  \n",
       "75%       5.130772  \n",
       "max    1901.200054  "
      ]
     },
     "execution_count": 15,
     "metadata": {},
     "output_type": "execute_result"
    }
   ],
   "source": [
    "MergedFile.describe()"
   ]
  },
  {
   "cell_type": "code",
   "execution_count": 11,
   "id": "090b4c9c",
   "metadata": {
    "scrolled": true
   },
   "outputs": [],
   "source": [
    "addvalue = abs(int(min(list(MergedFile.min()[2:]))/5 - 1)*5)"
   ]
  },
  {
   "cell_type": "code",
   "execution_count": 13,
   "id": "55614f7d",
   "metadata": {},
   "outputs": [
    {
     "data": {
      "text/plain": [
       "Country Name      Argentina\n",
       "Year                   2001\n",
       "PE                  -106.55\n",
       "Incidents               0.0\n",
       "IncidentLag_5           0.0\n",
       "TerrIdx                 0.0\n",
       "TerrorIdxLag_5          0.0\n",
       "Lab                   39.25\n",
       "GDPpc              -7.22615\n",
       "EODB                    1.0\n",
       "DomCrdt            9.682518\n",
       "FixedCapForm      10.873349\n",
       "Inf               -2.854865\n",
       "IntRateLend             0.5\n",
       "CurStd              0.00021\n",
       "dtype: object"
      ]
     },
     "execution_count": 13,
     "metadata": {},
     "output_type": "execute_result"
    }
   ],
   "source": [
    "MergedFile.min()"
   ]
  },
  {
   "cell_type": "code",
   "execution_count": 12,
   "id": "c1f0abfc",
   "metadata": {},
   "outputs": [
    {
     "data": {
      "text/plain": [
       "110"
      ]
     },
     "execution_count": 12,
     "metadata": {},
     "output_type": "execute_result"
    }
   ],
   "source": [
    "addvalue"
   ]
  },
  {
   "cell_type": "code",
   "execution_count": 47,
   "id": "d5801c2a",
   "metadata": {},
   "outputs": [],
   "source": [
    "transform_type = \"log\""
   ]
  },
  {
   "cell_type": "code",
   "execution_count": 48,
   "id": "fca1065d",
   "metadata": {},
   "outputs": [],
   "source": [
    "if transform_type == \"sqrt\":\n",
    "    MergedFile.iloc[:,2:] = MergedFile.iloc[:,2:]+addvalue\n",
    "    MergedFile.iloc[:,2:] = np.sqrt(MergedFile.iloc[:,2:])\n",
    "elif transform_type == \"log\":\n",
    "    MergedFile.iloc[:,2:] = MergedFile.iloc[:,2:]+addvalue\n",
    "    MergedFile.iloc[:,2:] = np.log(MergedFile.iloc[:,2:])"
   ]
  },
  {
   "cell_type": "markdown",
   "id": "ea5632ff-2c11-4fff-8424-071cc28a3fc8",
   "metadata": {
    "tags": []
   },
   "source": [
    "MergedFile"
   ]
  },
  {
   "cell_type": "markdown",
   "id": "86189510",
   "metadata": {},
   "source": [
    "**Take the bloody shot!**"
   ]
  },
  {
   "cell_type": "code",
   "execution_count": 49,
   "id": "513b5b25",
   "metadata": {},
   "outputs": [
    {
     "name": "stdout",
     "output_type": "stream",
     "text": [
      "                            OLS Regression Results                            \n",
      "==============================================================================\n",
      "Dep. Variable:                     PE   R-squared:                       0.014\n",
      "Model:                            OLS   Adj. R-squared:                 -0.018\n",
      "Method:                 Least Squares   F-statistic:                    0.4326\n",
      "Date:                Fri, 29 Oct 2021   Prob (F-statistic):              0.930\n",
      "Time:                        00:16:28   Log-Likelihood:                 36.774\n",
      "No. Observations:                 326   AIC:                            -51.55\n",
      "Df Residuals:                     315   BIC:                            -9.893\n",
      "Df Model:                          10                                         \n",
      "Covariance Type:            nonrobust                                         \n",
      "=================================================================================\n",
      "                    coef    std err          t      P>|t|      [0.025      0.975]\n",
      "---------------------------------------------------------------------------------\n",
      "const             5.4641      7.635      0.716      0.475      -9.558      20.486\n",
      "TerrIdx           0.3814      0.802      0.476      0.635      -1.197       1.960\n",
      "IncidentLag_5    -0.0069      0.044     -0.155      0.877      -0.094       0.080\n",
      "Lab               0.2445      0.371      0.660      0.510      -0.485       0.974\n",
      "GDPpc            -0.2027      0.556     -0.364      0.716      -1.297       0.891\n",
      "EODB             -0.8961      1.070     -0.838      0.403      -3.001       1.209\n",
      "DomCrdt           0.0291      0.074      0.390      0.697      -0.118       0.176\n",
      "FixedCapForm      0.0623      0.461      0.135      0.893      -0.845       0.969\n",
      "Inf               0.7248      0.483      1.500      0.135      -0.226       1.676\n",
      "IntRateLend      -0.4916      0.513     -0.958      0.339      -1.501       0.518\n",
      "CurStd           -0.0255      0.030     -0.843      0.400      -0.085       0.034\n",
      "==============================================================================\n",
      "Omnibus:                      643.085   Durbin-Watson:                   2.002\n",
      "Prob(Omnibus):                  0.000   Jarque-Bera (JB):           524153.664\n",
      "Skew:                         -12.558   Prob(JB):                         0.00\n",
      "Kurtosis:                     197.826   Cond. No.                     9.76e+03\n",
      "==============================================================================\n",
      "\n",
      "Notes:\n",
      "[1] Standard Errors assume that the covariance matrix of the errors is correctly specified.\n",
      "[2] The condition number is large, 9.76e+03. This might indicate that there are\n",
      "strong multicollinearity or other numerical problems.\n"
     ]
    }
   ],
   "source": [
    "result = sm.OLS(MergedFile[[\"PE\"]], sm.add_constant(MergedFile[[\"TerrIdx\",\"IncidentLag_5\", \"Lab\", \"GDPpc\", \"EODB\", \"DomCrdt\",\"FixedCapForm\", \"Inf\", \"IntRateLend\",\"CurStd\"]]), missing = \"drop\").fit()\n",
    "print(result.summary())"
   ]
  },
  {
   "cell_type": "markdown",
   "id": "4705cddb-2737-46ca-a34d-528873089b0d",
   "metadata": {},
   "source": [
    "> White's test for heteroskedacity"
   ]
  },
  {
   "cell_type": "code",
   "execution_count": 50,
   "id": "cec0e54a",
   "metadata": {
    "jupyter": {
     "source_hidden": true
    },
    "tags": []
   },
   "outputs": [
    {
     "data": {
      "text/plain": [
       "[('Lagrange Multiplier statistic:', 12.794910103350116),\n",
       " (\"LM test's p-value:\", 0.999999999999786),\n",
       " ('F-statistic:', 0.16340615802344896),\n",
       " (\"F-test's p-value:\", 0.9999999999999826)]"
      ]
     },
     "execution_count": 50,
     "metadata": {},
     "output_type": "execute_result"
    }
   ],
   "source": [
    "wtest = het_white(result.resid, result.model.exog)\n",
    "labels = ['Lagrange Multiplier statistic:', 'LM test\\'s p-value:', 'F-statistic:', 'F-test\\'s p-value:']\n",
    "lzip(labels, wtest)"
   ]
  },
  {
   "cell_type": "markdown",
   "id": "9a5c022c-8bd6-483f-b32e-d49a2013cafc",
   "metadata": {},
   "source": [
    "> 2nd order autocorrelation"
   ]
  },
  {
   "cell_type": "code",
   "execution_count": 51,
   "id": "1fc8cb2d",
   "metadata": {
    "tags": []
   },
   "outputs": [
    {
     "name": "stdout",
     "output_type": "stream",
     "text": [
      "(0.0634620162699504, 0.9687671375130749, 0.03047159305203399, 0.9699908631850741)\n"
     ]
    }
   ],
   "source": [
    "print(bg(result, nlags=2))"
   ]
  },
  {
   "cell_type": "markdown",
   "id": "f52b9355-37af-4033-b5c3-a230294d0583",
   "metadata": {},
   "source": [
    "> 3rd order autocorrelation"
   ]
  },
  {
   "cell_type": "code",
   "execution_count": 52,
   "id": "7020ec7c",
   "metadata": {
    "tags": []
   },
   "outputs": [
    {
     "name": "stdout",
     "output_type": "stream",
     "text": [
      "(0.06666828602640185, 0.9955122546794793, 0.021272760629535512, 0.9957840100138134)\n"
     ]
    }
   ],
   "source": [
    "print(bg(result, nlags=3))"
   ]
  },
  {
   "cell_type": "raw",
   "id": "dcb51ea1",
   "metadata": {},
   "source": [
    "corrMatrix = MergedFile.corr()\n",
    "fig = plt.figure(figsize=(16, 16))\n",
    "sns.heatmap(corrMatrix, annot=True)\n",
    "fig.show()\n",
    "fig.savefig('corrmatrix.png')  "
   ]
  },
  {
   "cell_type": "markdown",
   "id": "d3d88d09",
   "metadata": {},
   "source": [
    "**Where the hell have you been? Enjoying death.**"
   ]
  },
  {
   "cell_type": "code",
   "execution_count": null,
   "id": "e70dbec4",
   "metadata": {},
   "outputs": [],
   "source": []
  },
  {
   "cell_type": "code",
   "execution_count": null,
   "id": "9da791a7",
   "metadata": {},
   "outputs": [],
   "source": []
  },
  {
   "cell_type": "code",
   "execution_count": null,
   "id": "d3637aaa",
   "metadata": {},
   "outputs": [],
   "source": []
  },
  {
   "cell_type": "code",
   "execution_count": null,
   "id": "31bc98cd",
   "metadata": {},
   "outputs": [],
   "source": []
  },
  {
   "cell_type": "code",
   "execution_count": null,
   "id": "fdcd7836",
   "metadata": {},
   "outputs": [],
   "source": []
  },
  {
   "cell_type": "code",
   "execution_count": null,
   "id": "8d6c1c56",
   "metadata": {},
   "outputs": [],
   "source": []
  },
  {
   "cell_type": "code",
   "execution_count": null,
   "id": "5d23c2fa",
   "metadata": {},
   "outputs": [],
   "source": []
  },
  {
   "cell_type": "code",
   "execution_count": null,
   "id": "6d388222",
   "metadata": {},
   "outputs": [],
   "source": []
  },
  {
   "cell_type": "code",
   "execution_count": null,
   "id": "9856fbdb",
   "metadata": {},
   "outputs": [],
   "source": []
  },
  {
   "cell_type": "code",
   "execution_count": null,
   "id": "59eb59c3",
   "metadata": {},
   "outputs": [],
   "source": []
  },
  {
   "cell_type": "code",
   "execution_count": null,
   "id": "d675463a",
   "metadata": {},
   "outputs": [],
   "source": []
  },
  {
   "cell_type": "code",
   "execution_count": 65,
   "id": "103f915e",
   "metadata": {},
   "outputs": [
    {
     "name": "stdout",
     "output_type": "stream",
     "text": [
      "                            OLS Regression Results                            \n",
      "==============================================================================\n",
      "Dep. Variable:                     PE   R-squared:                       0.022\n",
      "Model:                            OLS   Adj. R-squared:                 -0.017\n",
      "Method:                 Least Squares   F-statistic:                    0.5576\n",
      "Date:                Wed, 27 Oct 2021   Prob (F-statistic):              0.862\n",
      "Time:                        20:15:32   Log-Likelihood:                -434.65\n",
      "No. Observations:                 288   AIC:                             893.3\n",
      "Df Residuals:                     276   BIC:                             937.3\n",
      "Df Model:                          11                                         \n",
      "Covariance Type:            nonrobust                                         \n",
      "==================================================================================\n",
      "                     coef    std err          t      P>|t|      [0.025      0.975]\n",
      "----------------------------------------------------------------------------------\n",
      "const              0.9715      0.698      1.391      0.165      -0.403       2.346\n",
      "Incidents         -0.0002      0.001     -0.347      0.729      -0.001       0.001\n",
      "IncidentLag_5     -0.0002      0.000     -0.324      0.746      -0.001       0.001\n",
      "TerrIdx            0.0431      0.050      0.856      0.393      -0.056       0.142\n",
      "TerrorIdxLag_5     0.0023      0.042      0.054      0.957      -0.081       0.086\n",
      "Lab               -0.0013      0.010     -0.123      0.902      -0.022       0.019\n",
      "GDPpc             -0.0038      0.026     -0.143      0.887      -0.056       0.048\n",
      "EODB               0.0011      0.003      0.391      0.696      -0.005       0.007\n",
      "DomCrdt           -0.0004      0.002     -0.179      0.858      -0.004       0.004\n",
      "Inf               -0.0286      0.020     -1.450      0.148      -0.068       0.010\n",
      "IntRateLend        0.0293      0.022      1.307      0.192      -0.015       0.073\n",
      "CurStd         -2.848e-06      0.000     -0.012      0.991      -0.000       0.000\n",
      "==============================================================================\n",
      "Omnibus:                      632.638   Durbin-Watson:                   2.021\n",
      "Prob(Omnibus):                  0.000   Jarque-Bera (JB):           757462.317\n",
      "Skew:                         -15.294   Prob(JB):                         0.00\n",
      "Kurtosis:                     252.372   Cond. No.                     3.83e+03\n",
      "==============================================================================\n",
      "\n",
      "Notes:\n",
      "[1] Standard Errors assume that the covariance matrix of the errors is correctly specified.\n",
      "[2] The condition number is large, 3.83e+03. This might indicate that there are\n",
      "strong multicollinearity or other numerical problems.\n"
     ]
    }
   ],
   "source": [
    "result = sm.OLS(MergedFile[[\"PE\"]], sm.add_constant(MergedFile[[\"Incidents\",\"IncidentLag_5\",\"TerrIdx\",\"TerrorIdxLag_5\",\"Lab\", \"GDPpc\", \"EODB\", \"DomCrdt\", \"Inf\", \"IntRateLend\",\"CurStd\"]]), missing = \"drop\").fit()\n",
    "print(result.summary())"
   ]
  },
  {
   "cell_type": "code",
   "execution_count": 66,
   "id": "805f765f",
   "metadata": {},
   "outputs": [
    {
     "name": "stdout",
     "output_type": "stream",
     "text": [
      "                            OLS Regression Results                            \n",
      "==============================================================================\n",
      "Dep. Variable:               Currency   R-squared:                       0.310\n",
      "Model:                            OLS   Adj. R-squared:                  0.286\n",
      "Method:                 Least Squares   F-statistic:                     12.47\n",
      "Date:                Wed, 27 Oct 2021   Prob (F-statistic):           7.20e-18\n",
      "Time:                        20:15:50   Log-Likelihood:                 324.28\n",
      "No. Observations:                 288   AIC:                            -626.6\n",
      "Df Residuals:                     277   BIC:                            -586.3\n",
      "Df Model:                          10                                         \n",
      "Covariance Type:            nonrobust                                         \n",
      "=================================================================================\n",
      "                    coef    std err          t      P>|t|      [0.025      0.975]\n",
      "---------------------------------------------------------------------------------\n",
      "const             0.0042      0.049      0.086      0.932      -0.093       0.101\n",
      "Incidents     -1.065e-05   3.26e-05     -0.327      0.744   -7.49e-05    5.36e-05\n",
      "IncidentLag_5  6.344e-05   3.54e-05      1.794      0.074   -6.17e-06       0.000\n",
      "TerrIdx           0.0028      0.003      1.012      0.312      -0.003       0.008\n",
      "Lab           -3.576e-05      0.001     -0.049      0.961      -0.001       0.001\n",
      "GDPpc            -0.0089      0.002     -4.742      0.000      -0.013      -0.005\n",
      "EODB             -0.0005      0.000     -2.248      0.025      -0.001   -5.69e-05\n",
      "DomCrdt       -6.394e-05      0.000     -0.459      0.647      -0.000       0.000\n",
      "Inf               0.0034      0.001      2.438      0.015       0.001       0.006\n",
      "IntRateLend       0.0058      0.002      3.604      0.000       0.003       0.009\n",
      "CurStd         1.839e-05   1.71e-05      1.074      0.284   -1.53e-05    5.21e-05\n",
      "==============================================================================\n",
      "Omnibus:                       38.254   Durbin-Watson:                   1.277\n",
      "Prob(Omnibus):                  0.000   Jarque-Bera (JB):               65.172\n",
      "Skew:                           0.762   Prob(JB):                     7.05e-15\n",
      "Kurtosis:                       4.763   Cond. No.                     3.78e+03\n",
      "==============================================================================\n",
      "\n",
      "Notes:\n",
      "[1] Standard Errors assume that the covariance matrix of the errors is correctly specified.\n",
      "[2] The condition number is large, 3.78e+03. This might indicate that there are\n",
      "strong multicollinearity or other numerical problems.\n"
     ]
    }
   ],
   "source": [
    "result = sm.OLS(MergedFile[[\"Currency\"]], sm.add_constant(MergedFile[[\"Incidents\",\"IncidentLag_5\",\"TerrIdx\",\"Lab\", \"GDPpc\", \"EODB\", \"DomCrdt\", \"Inf\", \"IntRateLend\",\"CurStd\"]]), missing = \"drop\").fit()\n",
    "print(result.summary())"
   ]
  },
  {
   "cell_type": "code",
   "execution_count": 67,
   "id": "7b016b1f",
   "metadata": {},
   "outputs": [
    {
     "name": "stdout",
     "output_type": "stream",
     "text": [
      "                            OLS Regression Results                            \n",
      "==============================================================================\n",
      "Dep. Variable:                IntRate   R-squared:                       0.100\n",
      "Model:                            OLS   Adj. R-squared:                  0.075\n",
      "Method:                 Least Squares   F-statistic:                     3.892\n",
      "Date:                Wed, 27 Oct 2021   Prob (F-statistic):           0.000226\n",
      "Time:                        20:15:55   Log-Likelihood:                -734.22\n",
      "No. Observations:                 288   AIC:                             1486.\n",
      "Df Residuals:                     279   BIC:                             1519.\n",
      "Df Model:                           8                                         \n",
      "Covariance Type:            nonrobust                                         \n",
      "=================================================================================\n",
      "                    coef    std err          t      P>|t|      [0.025      0.975]\n",
      "---------------------------------------------------------------------------------\n",
      "const             2.4888      1.934      1.287      0.199      -1.318       6.296\n",
      "Incidents        -0.0006      0.001     -0.457      0.648      -0.003       0.002\n",
      "IncidentLag_5     0.0023      0.001      1.684      0.093      -0.000       0.005\n",
      "TerrIdx          -0.1688      0.107     -1.571      0.117      -0.380       0.043\n",
      "Lab               0.0008      0.028      0.027      0.978      -0.055       0.057\n",
      "GDPpc            -0.2223      0.072     -3.096      0.002      -0.364      -0.081\n",
      "EODB              0.0200      0.008      2.644      0.009       0.005       0.035\n",
      "DomCrdt           0.0019      0.005      0.353      0.724      -0.009       0.012\n",
      "CurStd            0.0009      0.001      1.311      0.191      -0.000       0.002\n",
      "==============================================================================\n",
      "Omnibus:                       62.036   Durbin-Watson:                   2.041\n",
      "Prob(Omnibus):                  0.000   Jarque-Bera (JB):              197.910\n",
      "Skew:                          -0.916   Prob(JB):                     1.06e-43\n",
      "Kurtosis:                       6.625   Cond. No.                     3.77e+03\n",
      "==============================================================================\n",
      "\n",
      "Notes:\n",
      "[1] Standard Errors assume that the covariance matrix of the errors is correctly specified.\n",
      "[2] The condition number is large, 3.77e+03. This might indicate that there are\n",
      "strong multicollinearity or other numerical problems.\n"
     ]
    }
   ],
   "source": [
    "result = sm.OLS(MergedFile[[\"IntRate\"]], sm.add_constant(MergedFile[[\"Incidents\",\"IncidentLag_5\",\"TerrIdx\",\"Lab\", \"GDPpc\", \"EODB\", \"DomCrdt\",\"CurStd\"]]), missing = \"drop\").fit()\n",
    "print(result.summary())"
   ]
  },
  {
   "cell_type": "code",
   "execution_count": 69,
   "id": "da6f576f",
   "metadata": {
    "scrolled": true
   },
   "outputs": [
    {
     "data": {
      "text/html": [
       "<div>\n",
       "<style scoped>\n",
       "    .dataframe tbody tr th:only-of-type {\n",
       "        vertical-align: middle;\n",
       "    }\n",
       "\n",
       "    .dataframe tbody tr th {\n",
       "        vertical-align: top;\n",
       "    }\n",
       "\n",
       "    .dataframe thead th {\n",
       "        text-align: right;\n",
       "    }\n",
       "</style>\n",
       "<table border=\"1\" class=\"dataframe\">\n",
       "  <thead>\n",
       "    <tr style=\"text-align: right;\">\n",
       "      <th></th>\n",
       "      <th>Country Name</th>\n",
       "      <th>Year</th>\n",
       "      <th>FDI</th>\n",
       "      <th>Incidents</th>\n",
       "      <th>IncidentLag_1</th>\n",
       "      <th>IncidentLag_2</th>\n",
       "      <th>IncidentLag_3</th>\n",
       "      <th>IncidentLag_4</th>\n",
       "      <th>IncidentLag_5</th>\n",
       "      <th>IncidentLag_6</th>\n",
       "      <th>TerrIdx</th>\n",
       "      <th>Lab</th>\n",
       "      <th>GDPpc</th>\n",
       "      <th>EODB</th>\n",
       "      <th>DomCrdt</th>\n",
       "      <th>Inf</th>\n",
       "      <th>IntRate</th>\n",
       "      <th>CurStd</th>\n",
       "    </tr>\n",
       "  </thead>\n",
       "  <tbody>\n",
       "    <tr>\n",
       "      <th>0</th>\n",
       "      <td>Argentina</td>\n",
       "      <td>2000</td>\n",
       "      <td>3.665791</td>\n",
       "      <td>0.0</td>\n",
       "      <td>1.0</td>\n",
       "      <td>0.0</td>\n",
       "      <td>11.0</td>\n",
       "      <td>19.0</td>\n",
       "      <td>16.0</td>\n",
       "      <td>14.0</td>\n",
       "      <td>NaN</td>\n",
       "      <td>61.85</td>\n",
       "      <td>-1.874936</td>\n",
       "      <td>113.785714</td>\n",
       "      <td>23.894734</td>\n",
       "      <td>1.037287</td>\n",
       "      <td>27.836417</td>\n",
       "      <td>0.000237</td>\n",
       "    </tr>\n",
       "    <tr>\n",
       "      <th>1</th>\n",
       "      <td>Australia</td>\n",
       "      <td>2000</td>\n",
       "      <td>3.586745</td>\n",
       "      <td>1.0</td>\n",
       "      <td>0.0</td>\n",
       "      <td>6.0</td>\n",
       "      <td>4.0</td>\n",
       "      <td>5.0</td>\n",
       "      <td>5.0</td>\n",
       "      <td>9.0</td>\n",
       "      <td>NaN</td>\n",
       "      <td>63.37</td>\n",
       "      <td>2.701329</td>\n",
       "      <td>11.214286</td>\n",
       "      <td>87.735759</td>\n",
       "      <td>2.579702</td>\n",
       "      <td>7.716667</td>\n",
       "      <td>0.187072</td>\n",
       "    </tr>\n",
       "    <tr>\n",
       "      <th>2</th>\n",
       "      <td>Bolivia</td>\n",
       "      <td>2000</td>\n",
       "      <td>8.768250</td>\n",
       "      <td>0.0</td>\n",
       "      <td>0.0</td>\n",
       "      <td>0.0</td>\n",
       "      <td>4.0</td>\n",
       "      <td>1.0</td>\n",
       "      <td>2.0</td>\n",
       "      <td>8.0</td>\n",
       "      <td>NaN</td>\n",
       "      <td>70.79</td>\n",
       "      <td>0.544855</td>\n",
       "      <td>148.785714</td>\n",
       "      <td>49.293750</td>\n",
       "      <td>5.195408</td>\n",
       "      <td>34.595833</td>\n",
       "      <td>0.430783</td>\n",
       "    </tr>\n",
       "    <tr>\n",
       "      <th>3</th>\n",
       "      <td>Canada</td>\n",
       "      <td>2000</td>\n",
       "      <td>9.171024</td>\n",
       "      <td>5.0</td>\n",
       "      <td>2.0</td>\n",
       "      <td>4.0</td>\n",
       "      <td>2.0</td>\n",
       "      <td>1.0</td>\n",
       "      <td>5.0</td>\n",
       "      <td>4.0</td>\n",
       "      <td>NaN</td>\n",
       "      <td>65.27</td>\n",
       "      <td>3.945219</td>\n",
       "      <td>12.785714</td>\n",
       "      <td>73.987738</td>\n",
       "      <td>4.593832</td>\n",
       "      <td>7.270833</td>\n",
       "      <td>0.060662</td>\n",
       "    </tr>\n",
       "    <tr>\n",
       "      <th>4</th>\n",
       "      <td>Dominican Republic</td>\n",
       "      <td>2000</td>\n",
       "      <td>4.069001</td>\n",
       "      <td>0.0</td>\n",
       "      <td>0.0</td>\n",
       "      <td>0.0</td>\n",
       "      <td>12.0</td>\n",
       "      <td>3.0</td>\n",
       "      <td>0.0</td>\n",
       "      <td>7.0</td>\n",
       "      <td>NaN</td>\n",
       "      <td>59.53</td>\n",
       "      <td>3.079985</td>\n",
       "      <td>101.071429</td>\n",
       "      <td>23.570357</td>\n",
       "      <td>7.207763</td>\n",
       "      <td>26.799167</td>\n",
       "      <td>0.995494</td>\n",
       "    </tr>\n",
       "    <tr>\n",
       "      <th>...</th>\n",
       "      <td>...</td>\n",
       "      <td>...</td>\n",
       "      <td>...</td>\n",
       "      <td>...</td>\n",
       "      <td>...</td>\n",
       "      <td>...</td>\n",
       "      <td>...</td>\n",
       "      <td>...</td>\n",
       "      <td>...</td>\n",
       "      <td>...</td>\n",
       "      <td>...</td>\n",
       "      <td>...</td>\n",
       "      <td>...</td>\n",
       "      <td>...</td>\n",
       "      <td>...</td>\n",
       "      <td>...</td>\n",
       "      <td>...</td>\n",
       "      <td>...</td>\n",
       "    </tr>\n",
       "    <tr>\n",
       "      <th>1835</th>\n",
       "      <td>Gambia</td>\n",
       "      <td>2019</td>\n",
       "      <td>NaN</td>\n",
       "      <td>0.0</td>\n",
       "      <td>0.0</td>\n",
       "      <td>0.0</td>\n",
       "      <td>0.0</td>\n",
       "      <td>0.0</td>\n",
       "      <td>0.0</td>\n",
       "      <td>0.0</td>\n",
       "      <td>0.0</td>\n",
       "      <td>NaN</td>\n",
       "      <td>NaN</td>\n",
       "      <td>NaN</td>\n",
       "      <td>NaN</td>\n",
       "      <td>NaN</td>\n",
       "      <td>NaN</td>\n",
       "      <td>NaN</td>\n",
       "    </tr>\n",
       "    <tr>\n",
       "      <th>1836</th>\n",
       "      <td>Macedonia</td>\n",
       "      <td>2019</td>\n",
       "      <td>NaN</td>\n",
       "      <td>0.0</td>\n",
       "      <td>0.0</td>\n",
       "      <td>1.0</td>\n",
       "      <td>0.0</td>\n",
       "      <td>4.0</td>\n",
       "      <td>3.0</td>\n",
       "      <td>0.0</td>\n",
       "      <td>NaN</td>\n",
       "      <td>NaN</td>\n",
       "      <td>NaN</td>\n",
       "      <td>NaN</td>\n",
       "      <td>NaN</td>\n",
       "      <td>NaN</td>\n",
       "      <td>NaN</td>\n",
       "      <td>NaN</td>\n",
       "    </tr>\n",
       "    <tr>\n",
       "      <th>1837</th>\n",
       "      <td>Slovenia</td>\n",
       "      <td>2019</td>\n",
       "      <td>3.156400</td>\n",
       "      <td>0.0</td>\n",
       "      <td>0.0</td>\n",
       "      <td>0.0</td>\n",
       "      <td>0.0</td>\n",
       "      <td>0.0</td>\n",
       "      <td>0.0</td>\n",
       "      <td>0.0</td>\n",
       "      <td>0.0</td>\n",
       "      <td>NaN</td>\n",
       "      <td>NaN</td>\n",
       "      <td>NaN</td>\n",
       "      <td>NaN</td>\n",
       "      <td>NaN</td>\n",
       "      <td>NaN</td>\n",
       "      <td>NaN</td>\n",
       "    </tr>\n",
       "    <tr>\n",
       "      <th>1838</th>\n",
       "      <td>Kyrgyzstan</td>\n",
       "      <td>2019</td>\n",
       "      <td>NaN</td>\n",
       "      <td>0.0</td>\n",
       "      <td>1.0</td>\n",
       "      <td>3.0</td>\n",
       "      <td>4.0</td>\n",
       "      <td>3.0</td>\n",
       "      <td>2.0</td>\n",
       "      <td>0.0</td>\n",
       "      <td>NaN</td>\n",
       "      <td>NaN</td>\n",
       "      <td>NaN</td>\n",
       "      <td>NaN</td>\n",
       "      <td>NaN</td>\n",
       "      <td>NaN</td>\n",
       "      <td>NaN</td>\n",
       "      <td>NaN</td>\n",
       "    </tr>\n",
       "    <tr>\n",
       "      <th>1839</th>\n",
       "      <td>Turkmenistan</td>\n",
       "      <td>2019</td>\n",
       "      <td>4.788402</td>\n",
       "      <td>0.0</td>\n",
       "      <td>0.0</td>\n",
       "      <td>0.0</td>\n",
       "      <td>0.0</td>\n",
       "      <td>0.0</td>\n",
       "      <td>1.0</td>\n",
       "      <td>0.0</td>\n",
       "      <td>0.0</td>\n",
       "      <td>NaN</td>\n",
       "      <td>NaN</td>\n",
       "      <td>NaN</td>\n",
       "      <td>NaN</td>\n",
       "      <td>NaN</td>\n",
       "      <td>NaN</td>\n",
       "      <td>NaN</td>\n",
       "    </tr>\n",
       "  </tbody>\n",
       "</table>\n",
       "<p>1840 rows × 18 columns</p>\n",
       "</div>"
      ],
      "text/plain": [
       "            Country Name  Year       FDI  Incidents  IncidentLag_1  \\\n",
       "0              Argentina  2000  3.665791        0.0            1.0   \n",
       "1              Australia  2000  3.586745        1.0            0.0   \n",
       "2                Bolivia  2000  8.768250        0.0            0.0   \n",
       "3                 Canada  2000  9.171024        5.0            2.0   \n",
       "4     Dominican Republic  2000  4.069001        0.0            0.0   \n",
       "...                  ...   ...       ...        ...            ...   \n",
       "1835              Gambia  2019       NaN        0.0            0.0   \n",
       "1836           Macedonia  2019       NaN        0.0            0.0   \n",
       "1837            Slovenia  2019  3.156400        0.0            0.0   \n",
       "1838          Kyrgyzstan  2019       NaN        0.0            1.0   \n",
       "1839        Turkmenistan  2019  4.788402        0.0            0.0   \n",
       "\n",
       "      IncidentLag_2  IncidentLag_3  IncidentLag_4  IncidentLag_5  \\\n",
       "0               0.0           11.0           19.0           16.0   \n",
       "1               6.0            4.0            5.0            5.0   \n",
       "2               0.0            4.0            1.0            2.0   \n",
       "3               4.0            2.0            1.0            5.0   \n",
       "4               0.0           12.0            3.0            0.0   \n",
       "...             ...            ...            ...            ...   \n",
       "1835            0.0            0.0            0.0            0.0   \n",
       "1836            1.0            0.0            4.0            3.0   \n",
       "1837            0.0            0.0            0.0            0.0   \n",
       "1838            3.0            4.0            3.0            2.0   \n",
       "1839            0.0            0.0            0.0            1.0   \n",
       "\n",
       "      IncidentLag_6  TerrIdx    Lab     GDPpc        EODB    DomCrdt  \\\n",
       "0              14.0      NaN  61.85 -1.874936  113.785714  23.894734   \n",
       "1               9.0      NaN  63.37  2.701329   11.214286  87.735759   \n",
       "2               8.0      NaN  70.79  0.544855  148.785714  49.293750   \n",
       "3               4.0      NaN  65.27  3.945219   12.785714  73.987738   \n",
       "4               7.0      NaN  59.53  3.079985  101.071429  23.570357   \n",
       "...             ...      ...    ...       ...         ...        ...   \n",
       "1835            0.0      0.0    NaN       NaN         NaN        NaN   \n",
       "1836            0.0      NaN    NaN       NaN         NaN        NaN   \n",
       "1837            0.0      0.0    NaN       NaN         NaN        NaN   \n",
       "1838            0.0      NaN    NaN       NaN         NaN        NaN   \n",
       "1839            0.0      0.0    NaN       NaN         NaN        NaN   \n",
       "\n",
       "           Inf    IntRate    CurStd  \n",
       "0     1.037287  27.836417  0.000237  \n",
       "1     2.579702   7.716667  0.187072  \n",
       "2     5.195408  34.595833  0.430783  \n",
       "3     4.593832   7.270833  0.060662  \n",
       "4     7.207763  26.799167  0.995494  \n",
       "...        ...        ...       ...  \n",
       "1835       NaN        NaN       NaN  \n",
       "1836       NaN        NaN       NaN  \n",
       "1837       NaN        NaN       NaN  \n",
       "1838       NaN        NaN       NaN  \n",
       "1839       NaN        NaN       NaN  \n",
       "\n",
       "[1840 rows x 18 columns]"
      ]
     },
     "execution_count": 69,
     "metadata": {},
     "output_type": "execute_result"
    }
   ],
   "source": [
    "MergedFile"
   ]
  },
  {
   "cell_type": "code",
   "execution_count": null,
   "id": "9217acaa",
   "metadata": {},
   "outputs": [],
   "source": []
  },
  {
   "cell_type": "code",
   "execution_count": null,
   "id": "ffd78bc6",
   "metadata": {},
   "outputs": [],
   "source": []
  },
  {
   "cell_type": "code",
   "execution_count": null,
   "id": "885c9e14",
   "metadata": {},
   "outputs": [],
   "source": [
    "f= open(\"Regression_droppingallna.txt\",\"w+\")\n",
    "for dp in [\"FDI\",\"PE\",\"Currency\",\"IntRate\"]:\n",
    "    if dp == \"IntRate\":\n",
    "        result = sm.OLS(MergedFile[[dp]], sm.add_constant(MergedFile[[\"TerrIdx\",\"IncidentLag_5\",\"Lab\", \"GDPpc\", \"EODB\", \"DomCrdt\",\"CurStd\"]]), missing = \"drop\").fit()\n",
    "    else:\n",
    "        result = sm.OLS(MergedFile[[dp]], sm.add_constant(MergedFile[[\"TerrIdx\",\"IncidentLag_5\",\"Lab\", \"GDPpc\", \"EODB\", \"DomCrdt\", \"Inf\", \"IntRateLend\",\"CurStd\"]]), missing = \"drop\").fit()\n",
    "    print(result.summary())\n",
    "    f.write(str(result.summary()))\n",
    "f.close()\n"
   ]
  },
  {
   "cell_type": "code",
   "execution_count": null,
   "id": "62fe36fc",
   "metadata": {},
   "outputs": [],
   "source": []
  },
  {
   "cell_type": "code",
   "execution_count": null,
   "id": "fa7d19cf",
   "metadata": {},
   "outputs": [],
   "source": []
  },
  {
   "cell_type": "code",
   "execution_count": null,
   "id": "2cf33712",
   "metadata": {},
   "outputs": [],
   "source": []
  },
  {
   "cell_type": "code",
   "execution_count": null,
   "id": "d769698d",
   "metadata": {},
   "outputs": [],
   "source": []
  },
  {
   "cell_type": "code",
   "execution_count": null,
   "id": "696bb1cb",
   "metadata": {},
   "outputs": [],
   "source": []
  },
  {
   "cell_type": "code",
   "execution_count": null,
   "id": "ba3ab983",
   "metadata": {},
   "outputs": [],
   "source": []
  },
  {
   "cell_type": "code",
   "execution_count": 53,
   "id": "c11eb6aa",
   "metadata": {},
   "outputs": [],
   "source": [
    "MergedFile.iloc[:,2] = boxcox(MergedFile.iloc[:,2])[0]\n",
    "MergedFile.iloc[:,3] = boxcox(MergedFile.iloc[:,3])[0]\n",
    "MergedFile.iloc[:,4] = boxcox(MergedFile.iloc[:,4])[0]\n",
    "MergedFile.iloc[:,5] = boxcox(MergedFile.iloc[:,5])[0]\n",
    "MergedFile.iloc[:,6] = boxcox(MergedFile.iloc[:,6])[0]\n",
    "MergedFile.iloc[:,7] = boxcox(MergedFile.iloc[:,7])[0]\n",
    "MergedFile.iloc[:,8] = boxcox(MergedFile.iloc[:,8])[0]\n",
    "MergedFile.iloc[:,9] = boxcox(MergedFile.iloc[:,9])[0]\n",
    "MergedFile.iloc[:,10] = boxcox(MergedFile.iloc[:,10])[0]\n",
    "MergedFile.iloc[:,11] = boxcox(MergedFile.iloc[:,11])[0]\n",
    "MergedFile.iloc[:,12] = boxcox(MergedFile.iloc[:,12])[0]\n",
    "MergedFile.iloc[:,13] = boxcox(MergedFile.iloc[:,13])[0]"
   ]
  },
  {
   "cell_type": "code",
   "execution_count": 59,
   "id": "13b7289c",
   "metadata": {},
   "outputs": [],
   "source": [
    "MergedFile.iloc[:,2] = yeojohnson(MergedFile.iloc[:,2])[0]\n",
    "MergedFile.iloc[:,3] = yeojohnson(MergedFile.iloc[:,3])[0]\n",
    "MergedFile.iloc[:,4] = yeojohnson(MergedFile.iloc[:,4])[0]\n",
    "MergedFile.iloc[:,5] = yeojohnson(MergedFile.iloc[:,5])[0]\n",
    "MergedFile.iloc[:,6] = yeojohnson(MergedFile.iloc[:,6])[0]\n",
    "MergedFile.iloc[:,7] = yeojohnson(MergedFile.iloc[:,7])[0]\n",
    "MergedFile.iloc[:,8] = yeojohnson(MergedFile.iloc[:,8])[0]\n",
    "MergedFile.iloc[:,9] = yeojohnson(MergedFile.iloc[:,9])[0]\n",
    "MergedFile.iloc[:,10] = yeojohnson(MergedFile.iloc[:,10])[0]\n",
    "MergedFile.iloc[:,11] = yeojohnson(MergedFile.iloc[:,11])[0]\n",
    "MergedFile.iloc[:,12] = yeojohnson(MergedFile.iloc[:,12])[0]\n",
    "MergedFile.iloc[:,13] = yeojohnson(MergedFile.iloc[:,13])[0]"
   ]
  },
  {
   "cell_type": "code",
   "execution_count": null,
   "id": "f4d7169d",
   "metadata": {},
   "outputs": [],
   "source": []
  },
  {
   "cell_type": "code",
   "execution_count": null,
   "id": "364d5f35",
   "metadata": {},
   "outputs": [],
   "source": [
    "bg(result, nlags=5)"
   ]
  },
  {
   "cell_type": "code",
   "execution_count": null,
   "id": "55e0c2b3",
   "metadata": {},
   "outputs": [],
   "source": [
    "bg(result, nlags=5)"
   ]
  },
  {
   "cell_type": "code",
   "execution_count": null,
   "id": "c5dd3e2f",
   "metadata": {},
   "outputs": [],
   "source": []
  },
  {
   "cell_type": "code",
   "execution_count": null,
   "id": "b4052051",
   "metadata": {},
   "outputs": [],
   "source": []
  },
  {
   "cell_type": "raw",
   "id": "65e1464f",
   "metadata": {},
   "source": [
    "for i in range(0,len(MergedFile[\"Country Name\"].unique())):\n",
    "    country = MergedFile[\"Country Name\"].unique()[i]\n",
    "    MrgdFile = MergedFile[MergedFile[\"Country Name\"] == country]\n",
    "    MrgdFile.iloc[:, 2:] = MrgdFile.iloc[:, 2:].apply(lambda x: x.fillna(x.mean()),axis=0)\n",
    "    if i == 0:\n",
    "        MrgdFile_Ref = MrgdFile\n",
    "    else:\n",
    "        MrgdFile_Ref = pd.concat([MrgdFile_Ref, MrgdFile])\n",
    "MrgdFile_Ref.dropna(inplace=True)"
   ]
  },
  {
   "cell_type": "code",
   "execution_count": null,
   "id": "4512f69c",
   "metadata": {},
   "outputs": [],
   "source": []
  },
  {
   "cell_type": "code",
   "execution_count": 62,
   "id": "1c7db90b",
   "metadata": {},
   "outputs": [],
   "source": [
    "countries = set(Ind_Terr[\"Country Name\"].unique()).intersection(Control_Matrix[\"Country Name\"].unique()).intersection(Dp_FDI[\"Country Name\"].unique())"
   ]
  },
  {
   "cell_type": "code",
   "execution_count": 63,
   "id": "83be01e2",
   "metadata": {},
   "outputs": [],
   "source": []
  },
  {
   "cell_type": "markdown",
   "id": "a3eb31d1",
   "metadata": {},
   "source": [
    "Y = intercept + α(Incident t) + α1(Incident t-1) + α2(Incident t-2) + α3(Incident t-3) + α4(Incident t-4) + α5(Incident t-5) + α6(Incident t-6) + αc1(Control Labour Force%) + ac2(Control GDPpc) + ac3(Control EODB) + ac4(Control Domestic Crdt Sprd) + ac5(Control Inflation) +ac6(Control Interest Rate) "
   ]
  },
  {
   "cell_type": "markdown",
   "id": "61a19fd7",
   "metadata": {},
   "source": [
    "New Version"
   ]
  },
  {
   "cell_type": "raw",
   "id": "cfc1fbda",
   "metadata": {},
   "source": [
    "countries = set(Ind_Terr[\"Country Name\"].unique()).intersection(Control_Matrix[\"Country Name\"].unique()).intersection(Dp_FDI[\"Country Name\"].unique())\n",
    "for country in countries:\n",
    "    print(\"Running\", country)\n",
    "    Cntrl = Control_Matrix[Control_Matrix[\"Country Name\"] == country]\n",
    "    #Filling NaN Values with mean()\n",
    "    Cntrl.loc[:, [\"Lab\", \"GDPpc\", \"EODB\", \"DomCrdt\", \"Inf\", \"IntRate\"]] = Cntrl.loc[:, [\"Lab\", \"GDPpc\", \"EODB\", \"DomCrdt\", \"Inf\", \"IntRate\"]].apply(lambda x: x.fillna(x.mean()),axis=0)\n",
    "    Ter = Ind_Terr[Ind_Terr[\"Country Name\"] == country]\n",
    "    cols = []\n",
    "    for lag in range(1, lags + 1): \n",
    "        col = f\"IncidentLag_{lag}\"\n",
    "        Ter[col] = Ter[\"Incidents\"].shift(lag)\n",
    "        cols.append(col)\n",
    "    Ter.dropna(inplace = True)\n",
    "    Dp = Dp_FDI[Dp_FDI[\"Country Name\"] == country]\n",
    "    Ind = pd.merge(Ter, Cntrl,  how='outer', left_on=[\"Country Name\",\"Year\"], right_on = [\"Country Name\",\"Year\"])\n",
    "    Dp.fillna(0, inplace = True)\n",
    "    Ind.fillna(0, inplace = True)\n",
    "    result = sm.OLS(Dp[[\"FDI\"]].reset_index(drop=True), sm.add_constant(Ind[[\"Incidents\",\"IncidentLag_1\", \"IncidentLag_2\", \"IncidentLag_3\", \"IncidentLag_4\", \"IncidentLag_5\", \"IncidentLag_6\",\"Lab\", \"GDPpc\", \"EODB\", \"DomCrdt\", \"Inf\", \"IntRate\",\"CurStd\"]])).fit()\n",
    "    f= open(country+\".txt\",\"w+\")\n",
    "    f.write(str(result.summary()))\n",
    "    f.close()\n",
    "    print(result.summary())"
   ]
  },
  {
   "cell_type": "code",
   "execution_count": null,
   "id": "247eff63",
   "metadata": {},
   "outputs": [],
   "source": []
  },
  {
   "cell_type": "code",
   "execution_count": null,
   "id": "8485eb0a",
   "metadata": {},
   "outputs": [],
   "source": []
  },
  {
   "cell_type": "code",
   "execution_count": null,
   "id": "6a876cab",
   "metadata": {},
   "outputs": [],
   "source": []
  },
  {
   "cell_type": "code",
   "execution_count": null,
   "id": "2cbf6975",
   "metadata": {},
   "outputs": [],
   "source": [
    "#Run for specific Country\n",
    "countries = [\"Japan\"]\n",
    "for country in countries:\n",
    "    print(\"Running\", country)\n",
    "    Cntrl = Control_Matrix[Control_Matrix[\"Country Name\"] == country]\n",
    "    #Filling NaN Values with mean()\n",
    "    Cntrl.loc[:, [\"Lab\", \"GDPpc\", \"EODB\", \"DomCrdt\", \"Inf\", \"IntRate\"]] = Cntrl.loc[:, [\"Lab\", \"GDPpc\", \"EODB\", \"DomCrdt\", \"Inf\", \"IntRate\"]].apply(lambda x: x.fillna(x.mean()),axis=0)\n",
    "    Ter = Ind_Terr[Ind_Terr[\"Country Name\"] == country]\n",
    "    cols = []\n",
    "    for lag in range(1, lags + 1): \n",
    "        col = f\"IncidentLag_{lag}\"\n",
    "        Ter[col] = Ter[\"Incidents\"].shift(lag)\n",
    "        cols.append(col)\n",
    "    Ter.dropna(inplace = True)\n",
    "    Dp = Dp_FDI[Dp_FDI[\"Country Name\"] == country]\n",
    "    Ind = pd.merge(Ter, Cntrl,  how='outer', left_on=[\"Country Name\",\"Year\"], right_on = [\"Country Name\",\"Year\"])\n",
    "    Dp.fillna(0, inplace = True)\n",
    "    Ind.fillna(0, inplace = True)\n",
    "    result = sm.OLS(Dp[[\"FDI\"]].reset_index(drop=True), sm.add_constant(Ind[[\"Incidents\",\"IncidentLag_1\", \"IncidentLag_2\", \"IncidentLag_3\", \"IncidentLag_4\", \"IncidentLag_5\", \"IncidentLag_6\",\"Lab\", \"GDPpc\", \"EODB\", \"DomCrdt\", \"Inf\", \"IntRate\",\"CurStd\"]])).fit()\n",
    "    print(result.summary())"
   ]
  },
  {
   "cell_type": "code",
   "execution_count": null,
   "id": "1947c7e3",
   "metadata": {},
   "outputs": [],
   "source": []
  },
  {
   "cell_type": "markdown",
   "id": "161cb0c7",
   "metadata": {},
   "source": [
    "Old Below"
   ]
  },
  {
   "cell_type": "code",
   "execution_count": 75,
   "id": "fb5401f0",
   "metadata": {
    "scrolled": true
   },
   "outputs": [],
   "source": [
    "FinalTable = pd.DataFrame(index = range(0,len(countries)))\n",
    "FinalTable[\"Country\"] = list(countries)\n",
    "FinalTable[\"intercept\"] = None\n",
    "FinalTable[\"a\"] = None\n",
    "FinalTable[\"a1\"] = None\n",
    "FinalTable[\"a2\"] = None\n",
    "FinalTable[\"a3\"] = None\n",
    "FinalTable[\"a4\"] = None\n",
    "FinalTable[\"a5\"] = None\n",
    "FinalTable[\"a6\"] = None\n",
    "FinalTable[\"ac1\"] = None\n",
    "FinalTable[\"ac2\"] = None\n",
    "FinalTable[\"ac3\"] = None\n",
    "FinalTable[\"ac4\"] = None\n",
    "FinalTable[\"ac5\"] = None\n",
    "FinalTable[\"ac6\"] = None"
   ]
  },
  {
   "cell_type": "code",
   "execution_count": 76,
   "id": "f67b5ce0",
   "metadata": {
    "scrolled": true
   },
   "outputs": [
    {
     "name": "stdout",
     "output_type": "stream",
     "text": [
      "Running Japan\n"
     ]
    }
   ],
   "source": [
    "for country in countries:\n",
    "    print(\"Running\", country)\n",
    "    Cntrl = Control_Matrix[Control_Matrix[\"Country Name\"] == country]\n",
    "    #Filling NaN Values with mean()\n",
    "    Cntrl.loc[:, [\"Lab\", \"GDPpc\", \"EODB\", \"DomCrdt\", \"Inf\", \"IntRate\"]] = Cntrl.loc[:, [\"Lab\", \"GDPpc\", \"EODB\", \"DomCrdt\", \"Inf\", \"IntRate\"]].apply(lambda x: x.fillna(x.mean()),axis=0)\n",
    "    Ter = Ind_Terr[Ind_Terr[\"Country Name\"] == country]\n",
    "    cols = []\n",
    "    for lag in range(1, lags + 1): \n",
    "        col = f\"IncidentLag_{lag}\"\n",
    "        Ter[col] = Ter[\"Incidents\"].shift(lag)\n",
    "        cols.append(col)\n",
    "    Ter.dropna(inplace = True)\n",
    "    Dp = Dp_FDI[Dp_FDI[\"Country Name\"] == country]\n",
    "    Ind = pd.merge(Ter, Cntrl,  how='outer', left_on=[\"Country Name\",\"Year\"], right_on = [\"Country Name\",\"Year\"])\n",
    "    Dp.fillna(0, inplace = True)\n",
    "    Ind.fillna(0, inplace = True)\n",
    "    #print(len(Cntrl))\n",
    "    #print(len(Ind))\n",
    "    #print(len(Dp))\n",
    "    Model = LinearRegression().fit(Ind[[\"IncidentLag_1\", \"IncidentLag_2\", \"IncidentLag_3\", \"IncidentLag_4\", \"IncidentLag_5\"\n",
    "                                        , \"IncidentLag_6\",\"Lab\", \"GDPpc\", \"EODB\", \"DomCrdt\", \"Inf\", \"IntRate\"]],Dp[[\"FDI\"]])\n",
    "    #print(country, \"Model Coefficients:\", Model.coef_ , \"Model Intercept:\", Model.intercept_)\n",
    "    FinalTable[\"intercept\"][FinalTable[\"Country\"]==country] = Model.intercept_\n",
    "    FinalTable[\"a\"][FinalTable[\"Country\"]==country] = Model.coef_[0,0]\n",
    "    FinalTable[\"a1\"][FinalTable[\"Country\"]==country] = Model.coef_[0,0]\n",
    "    FinalTable[\"a2\"][FinalTable[\"Country\"]==country] = Model.coef_[0,1]\n",
    "    FinalTable[\"a3\"][FinalTable[\"Country\"]==country] = Model.coef_[0,2]\n",
    "    FinalTable[\"a4\"][FinalTable[\"Country\"]==country] = Model.coef_[0,3]\n",
    "    FinalTable[\"a5\"][FinalTable[\"Country\"]==country] = Model.coef_[0,4]\n",
    "    FinalTable[\"a6\"][FinalTable[\"Country\"]==country] = Model.coef_[0,5]\n",
    "    FinalTable[\"ac1\"][FinalTable[\"Country\"]==country] = Model.coef_[0,0]\n",
    "    FinalTable[\"ac2\"][FinalTable[\"Country\"]==country] = Model.coef_[0,0]\n",
    "    FinalTable[\"ac3\"][FinalTable[\"Country\"]==country] = Model.coef_[0,0]\n",
    "    FinalTable[\"ac4\"][FinalTable[\"Country\"]==country] = Model.coef_[0,0]\n",
    "    FinalTable[\"ac5\"][FinalTable[\"Country\"]==country] = Model.coef_[0,0]\n",
    "    FinalTable[\"ac6\"][FinalTable[\"Country\"]==country] = Model.coef_[0,0]"
   ]
  },
  {
   "cell_type": "code",
   "execution_count": 84,
   "id": "661115f8",
   "metadata": {},
   "outputs": [],
   "source": [
    "FinalTable.to_csv(\"Regression_Output_v1.0.csv\", index = False)"
   ]
  }
 ],
 "metadata": {
  "kernelspec": {
   "display_name": "Python 3 (ipykernel)",
   "language": "python",
   "name": "python3"
  },
  "language_info": {
   "codemirror_mode": {
    "name": "ipython",
    "version": 3
   },
   "file_extension": ".py",
   "mimetype": "text/x-python",
   "name": "python",
   "nbconvert_exporter": "python",
   "pygments_lexer": "ipython3",
   "version": "3.9.6"
  }
 },
 "nbformat": 4,
 "nbformat_minor": 5
}
